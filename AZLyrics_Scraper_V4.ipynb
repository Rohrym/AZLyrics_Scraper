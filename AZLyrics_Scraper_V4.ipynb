{
 "cells": [
  {
   "cell_type": "markdown",
   "id": "d7eb1f1f",
   "metadata": {},
   "source": [
    "# AZLyrics Scraper\n",
    "\n",
    "With this code you could scrape individual lyrics pages or whole artist pages for some of their basic data. This information will be saved in a csv file. To retrieve the data of the artist/band you want, you need to change the following link within the quotation markts with that of the AZLyrics artist page (make sure you use the full link). "
   ]
  },
  {
   "cell_type": "code",
   "execution_count": 1,
   "id": "554a98f6",
   "metadata": {},
   "outputs": [],
   "source": [
    "index_url = 'https://www.azlyrics.com/n/nothingbutthieves.html'"
   ]
  },
  {
   "cell_type": "markdown",
   "id": "eaa93ceb",
   "metadata": {},
   "source": [
    "## Setting up\n",
    "\n",
    "First we start by importing various python libraries:"
   ]
  },
  {
   "cell_type": "code",
   "execution_count": 2,
   "id": "a20aa346",
   "metadata": {},
   "outputs": [],
   "source": [
    "import sys\n",
    "import csv\n",
    "import requests\n",
    "import time\n",
    "import random\n",
    "import pandas as pd\n",
    "from bs4 import BeautifulSoup"
   ]
  },
  {
   "cell_type": "markdown",
   "id": "55d57df9",
   "metadata": {},
   "source": [
    "Then we make functions to retrieve the urls from the web and look for certain elements within the webpages:"
   ]
  },
  {
   "cell_type": "code",
   "execution_count": 3,
   "id": "c7599e75",
   "metadata": {},
   "outputs": [],
   "source": [
    "#makes the default request\n",
    "def load_page(url):\n",
    "    with requests.get(url) as f:\n",
    "        page = f.text\n",
    "    return page\n",
    "\n",
    "#extracts a text element from a html tag\n",
    "def get_element_text(element):\n",
    "    try:\n",
    "        return element.text.strip()\n",
    "    except AttributeError as e:                     \n",
    "        print('Element not found, error: {}'.format(e), file=sys.stderr)\n",
    "        return ''\n",
    "\n",
    "#extracts specifically the text element to extract the genre\n",
    "def get_genre_element(html):\n",
    "    try:\n",
    "        genre_script = html.find('body').find_all('script')[2]\n",
    "        genre = str(genre_script).split()[9][1:-2]\n",
    "        return genre\n",
    "    except AttributeError as e:                     \n",
    "        print('Element not found, error: {}'.format(e), file=sys.stderr)\n",
    "        return ''"
   ]
  },
  {
   "cell_type": "markdown",
   "id": "bd14e23d",
   "metadata": {},
   "source": [
    "## Getting all artist songs\n",
    "\n",
    "We proceed to make a function to get some basic information from each song on an artist's page on AZLyrics. From the list of songs and albums we extract the song, the link to the specific song page and generate an id for every song. It stores the information in a dictionary nested in the list called `data`."
   ]
  },
  {
   "cell_type": "code",
   "execution_count": 4,
   "id": "09e06fb2",
   "metadata": {},
   "outputs": [],
   "source": [
    "def get_songs(url):\n",
    "    artist_page = BeautifulSoup(load_page(url), 'lxml')        \n",
    "    items = artist_page.find(id=\"listAlbum\")                   \n",
    "    if not items:                                             \n",
    "        print('Something went wrong!', file=sys.stderr)\n",
    "        sys.exit()\n",
    "    data = []\n",
    "    for count, row in enumerate(items.find_all(class_= 'listalbum-item')):          \n",
    "        song = get_element_text(row.find('a'))\n",
    "        link = row.find('a').get('href')\n",
    "        link = 'https://www.azlyrics.com/' + str(link)\n",
    "        data.append({    \n",
    "                         'id' : 's' + str(count + 1),\n",
    "                         'song': song,\n",
    "                         'link': link,\n",
    "                        })\n",
    "    return data"
   ]
  },
  {
   "cell_type": "markdown",
   "id": "a1d852d4",
   "metadata": {},
   "source": [
    "Run the code below to test the function:"
   ]
  },
  {
   "cell_type": "code",
   "execution_count": 5,
   "id": "14fec382",
   "metadata": {},
   "outputs": [],
   "source": [
    "#test = pd.DataFrame(get_songs(index_url))\n",
    "#test"
   ]
  },
  {
   "cell_type": "markdown",
   "id": "0ccfc0b3",
   "metadata": {},
   "source": [
    "## Getting the individual lyrics\n",
    "\n",
    "Now that we are able to get the basic information for each song we now need to define a function to look at every individual song page to extract the album, year of the album release, the song's writers, the music genre, and the lyrics. Like the previous function it will store all the information in the list variable called `data`."
   ]
  },
  {
   "cell_type": "code",
   "execution_count": 6,
   "id": "84924e33",
   "metadata": {},
   "outputs": [],
   "source": [
    "def get_song_info(url):\n",
    "    song_page = BeautifulSoup(load_page(url), 'lxml')                  \n",
    "    interesting_html = song_page.find(class_='container main-page')    \n",
    "    if not interesting_html:\n",
    "        print('No information availible for song at {}'.format(url), file=sys.stderr)\n",
    "        return {}                                                      \n",
    "    album = get_element_text(interesting_html.find(class_='songinalbum_title').find('b'))[1:-1]\n",
    "    if album == 'ou May Also Lik':\n",
    "        album = album.replace('ou May Also Lik', 'other songs')\n",
    "    album_released = get_element_text(interesting_html.find(class_='songinalbum_title'))[-5:-1]\n",
    "    if 'Lik' in album_released:\n",
    "        album_released = album_released.replace('Lik', '0')\n",
    "    credits = get_element_text(interesting_html.find_all(class_='smt')[2])[11:]\n",
    "    genre = get_genre_element(song_page)\n",
    "    lyrics = get_element_text(interesting_html.find('div', {'class':None}))\n",
    "    return {'album': album, 'album release': album_released,'credits': credits, 'genre': genre, 'lyrics': lyrics}                      "
   ]
  },
  {
   "cell_type": "markdown",
   "id": "23bbf11d",
   "metadata": {},
   "source": [
    "Run the code below to test the function:"
   ]
  },
  {
   "cell_type": "code",
   "execution_count": 7,
   "id": "3738368b",
   "metadata": {},
   "outputs": [],
   "source": [
    "#song_url = 'https://www.azlyrics.com/lyrics/bobdylan/highlands.html'  #you can replace this url with any song on AZLyrics\n",
    "#song_info = get_song_info(song_url)\n",
    "#for key, value in song_info.items():\n",
    "#    if key == 'lyrics':      #you can change 'lyrics' with any of the keys in the dictionary\n",
    "#        print(value)"
   ]
  },
  {
   "cell_type": "markdown",
   "id": "c55a24f3",
   "metadata": {},
   "source": [
    "## Scraping\n",
    "\n",
    "The following code applies the previously defined function, thus scraping the relevant information from AZLyrics. First the `get_songs(url)` function is applied. Then using the hyperlinks gained from this function we can loop through those to scrape all the data from every song page using the `get_song_info(url)` function. This all gets merged into a single dictionary. This process may take a while depending on the amount of songs released by the artist."
   ]
  },
  {
   "cell_type": "code",
   "execution_count": 8,
   "id": "d6c49b2c",
   "metadata": {},
   "outputs": [
    {
     "name": "stdout",
     "output_type": "stream",
     "text": [
      "Finished scraping\n"
     ]
    }
   ],
   "source": [
    "song_data = get_songs(index_url)                      \n",
    "for row in song_data:\n",
    "    #print('Scraping info on {}.'.format(row['song'])) #can be useful for debugging\n",
    "    url = row['link']\n",
    "    song_info = get_song_info(url)                    \n",
    "    for key, value in song_info.items():\n",
    "        row[key] = value\n",
    "    time.sleep(random.uniform(3,8)) #take this faster code if you have <100 songs you want to download\n",
    "    #time.sleep(random.uniform(4,16)) #take this slower code if you have >100 songs you want to download\n",
    "print('Finished scraping')"
   ]
  },
  {
   "cell_type": "markdown",
   "id": "a8942ff6",
   "metadata": {},
   "source": [
    "## Writing data into CSV\n",
    "\n",
    "In this last part we will write down the data we have just scraped in a csv file."
   ]
  },
  {
   "cell_type": "code",
   "execution_count": 9,
   "id": "55188219",
   "metadata": {},
   "outputs": [
    {
     "name": "stdout",
     "output_type": "stream",
     "text": [
      "File created\n"
     ]
    }
   ],
   "source": [
    "filename = index_url.rsplit('/', 1)[1][:-5]\n",
    "with open(filename, 'w', encoding='utf-8') as f:       \n",
    "    fieldnames=['id','song', 'album', 'album release', 'genre','credits', 'lyrics']\n",
    "    writer = csv.DictWriter(f,\n",
    "                            delimiter=',',                \n",
    "                            quotechar='\"',                \n",
    "                            quoting=csv.QUOTE_NONNUMERIC, \n",
    "                            fieldnames=fieldnames\n",
    "                            )\n",
    "    writer.writeheader()                                  \n",
    "    for row in song_data:\n",
    "        writer.writerow({k:v for k,v in row.items() if k in fieldnames})\n",
    "print('File created')"
   ]
  },
  {
   "cell_type": "markdown",
   "id": "7a178aaf",
   "metadata": {},
   "source": [
    "## Optional: Creating a Dataframe from the CSV file\n",
    "\n",
    "This allows you to see what is in the csv file from this Juypiter Notebook using pandas and do operations on the data if so desired."
   ]
  },
  {
   "cell_type": "code",
   "execution_count": 10,
   "id": "a7cfbb7d",
   "metadata": {},
   "outputs": [
    {
     "data": {
      "text/html": [
       "<div>\n",
       "<style scoped>\n",
       "    .dataframe tbody tr th:only-of-type {\n",
       "        vertical-align: middle;\n",
       "    }\n",
       "\n",
       "    .dataframe tbody tr th {\n",
       "        vertical-align: top;\n",
       "    }\n",
       "\n",
       "    .dataframe thead th {\n",
       "        text-align: right;\n",
       "    }\n",
       "</style>\n",
       "<table border=\"1\" class=\"dataframe\">\n",
       "  <thead>\n",
       "    <tr style=\"text-align: right;\">\n",
       "      <th></th>\n",
       "      <th>id</th>\n",
       "      <th>song</th>\n",
       "      <th>album</th>\n",
       "      <th>album release</th>\n",
       "      <th>genre</th>\n",
       "      <th>credits</th>\n",
       "      <th>lyrics</th>\n",
       "    </tr>\n",
       "  </thead>\n",
       "  <tbody>\n",
       "    <tr>\n",
       "      <th>0</th>\n",
       "      <td>s1</td>\n",
       "      <td>Graveyard Whistling</td>\n",
       "      <td>Graveyard Whistling</td>\n",
       "      <td>2014</td>\n",
       "      <td>pop</td>\n",
       "      <td>Craik Dominic Alexander Roberto, Emery Julian</td>\n",
       "      <td>All that afterlife, I don't hold with it\r\n",
       "All ...</td>\n",
       "    </tr>\n",
       "    <tr>\n",
       "      <th>1</th>\n",
       "      <td>s2</td>\n",
       "      <td>Emergency</td>\n",
       "      <td>Graveyard Whistling</td>\n",
       "      <td>2014</td>\n",
       "      <td>pop</td>\n",
       "      <td>Dominic Alexander Roberto Craik, Joseph Langri...</td>\n",
       "      <td>Let me be absolutely clear\r\n",
       "This is mine but I...</td>\n",
       "    </tr>\n",
       "    <tr>\n",
       "      <th>2</th>\n",
       "      <td>s3</td>\n",
       "      <td>Itch</td>\n",
       "      <td>Graveyard Whistling</td>\n",
       "      <td>2014</td>\n",
       "      <td>pop</td>\n",
       "      <td>Craik Dominic Alexander Roberto, Hibbit Larry</td>\n",
       "      <td>There's a rumbling in my head\r\n",
       "It's getting lo...</td>\n",
       "    </tr>\n",
       "    <tr>\n",
       "      <th>3</th>\n",
       "      <td>s4</td>\n",
       "      <td>Last Orders</td>\n",
       "      <td>Graveyard Whistling</td>\n",
       "      <td>2014</td>\n",
       "      <td>pop</td>\n",
       "      <td>Craik Dominic Alexander Roberto, Emery Julian</td>\n",
       "      <td>We left The Cliff\r\n",
       "Wandered down the Broadway ...</td>\n",
       "    </tr>\n",
       "    <tr>\n",
       "      <th>4</th>\n",
       "      <td>s5</td>\n",
       "      <td>Excuse Me</td>\n",
       "      <td>Nothing But Thieves</td>\n",
       "      <td>2015</td>\n",
       "      <td>pop</td>\n",
       "      <td>Jim Irvin, Julian Emery, Conor Ryan Mason, Dom...</td>\n",
       "      <td>His space crowds out your space, your space\r\n",
       "Y...</td>\n",
       "    </tr>\n",
       "    <tr>\n",
       "      <th>...</th>\n",
       "      <td>...</td>\n",
       "      <td>...</td>\n",
       "      <td>...</td>\n",
       "      <td>...</td>\n",
       "      <td>...</td>\n",
       "      <td>...</td>\n",
       "      <td>...</td>\n",
       "    </tr>\n",
       "    <tr>\n",
       "      <th>56</th>\n",
       "      <td>s57</td>\n",
       "      <td>Your Blood</td>\n",
       "      <td>Moral Panic II</td>\n",
       "      <td>2021</td>\n",
       "      <td>pop</td>\n",
       "      <td>Julian Emery, Jim Irvin, Dominic Craik, Joseph...</td>\n",
       "      <td>You know it's your blood that I bleed\r\n",
       "Tell me...</td>\n",
       "    </tr>\n",
       "    <tr>\n",
       "      <th>57</th>\n",
       "      <td>s58</td>\n",
       "      <td>Crazy</td>\n",
       "      <td>other songs</td>\n",
       "      <td>0</td>\n",
       "      <td>pop</td>\n",
       "      <td>Gian Piero Reverberi, Brian Joseph Burton, Gia...</td>\n",
       "      <td>I remember when\r\n",
       "I remember, I remember when I...</td>\n",
       "    </tr>\n",
       "    <tr>\n",
       "      <th>58</th>\n",
       "      <td>s59</td>\n",
       "      <td>Holding Out For A Hero</td>\n",
       "      <td>other songs</td>\n",
       "      <td>0</td>\n",
       "      <td>pop</td>\n",
       "      <td>Jim Steinman, Dean Pitchford</td>\n",
       "      <td>Where have all the good men gone\r\n",
       "And where ar...</td>\n",
       "    </tr>\n",
       "    <tr>\n",
       "      <th>59</th>\n",
       "      <td>s60</td>\n",
       "      <td>Life's Coming In Slow</td>\n",
       "      <td>other songs</td>\n",
       "      <td>0</td>\n",
       "      <td>pop</td>\n",
       "      <td></td>\n",
       "      <td>The sand in the hourglass keeps dripping away\r",
       "...</td>\n",
       "    </tr>\n",
       "    <tr>\n",
       "      <th>60</th>\n",
       "      <td>s61</td>\n",
       "      <td>Lover, You Should Have Come Over</td>\n",
       "      <td>other songs</td>\n",
       "      <td>0</td>\n",
       "      <td>pop</td>\n",
       "      <td>Jeff Buckley</td>\n",
       "      <td>Looking out the door, I see the rain fall upon...</td>\n",
       "    </tr>\n",
       "  </tbody>\n",
       "</table>\n",
       "<p>61 rows × 7 columns</p>\n",
       "</div>"
      ],
      "text/plain": [
       "     id                              song                album  album release  \\\n",
       "0    s1               Graveyard Whistling  Graveyard Whistling           2014   \n",
       "1    s2                         Emergency  Graveyard Whistling           2014   \n",
       "2    s3                              Itch  Graveyard Whistling           2014   \n",
       "3    s4                       Last Orders  Graveyard Whistling           2014   \n",
       "4    s5                         Excuse Me  Nothing But Thieves           2015   \n",
       "..  ...                               ...                  ...            ...   \n",
       "56  s57                        Your Blood       Moral Panic II           2021   \n",
       "57  s58                             Crazy          other songs              0   \n",
       "58  s59            Holding Out For A Hero          other songs              0   \n",
       "59  s60             Life's Coming In Slow          other songs              0   \n",
       "60  s61  Lover, You Should Have Come Over          other songs              0   \n",
       "\n",
       "   genre                                            credits  \\\n",
       "0    pop      Craik Dominic Alexander Roberto, Emery Julian   \n",
       "1    pop  Dominic Alexander Roberto Craik, Joseph Langri...   \n",
       "2    pop      Craik Dominic Alexander Roberto, Hibbit Larry   \n",
       "3    pop      Craik Dominic Alexander Roberto, Emery Julian   \n",
       "4    pop  Jim Irvin, Julian Emery, Conor Ryan Mason, Dom...   \n",
       "..   ...                                                ...   \n",
       "56   pop  Julian Emery, Jim Irvin, Dominic Craik, Joseph...   \n",
       "57   pop  Gian Piero Reverberi, Brian Joseph Burton, Gia...   \n",
       "58   pop                       Jim Steinman, Dean Pitchford   \n",
       "59   pop                                                      \n",
       "60   pop                                       Jeff Buckley   \n",
       "\n",
       "                                               lyrics  \n",
       "0   All that afterlife, I don't hold with it\n",
       "All ...  \n",
       "1   Let me be absolutely clear\n",
       "This is mine but I...  \n",
       "2   There's a rumbling in my head\n",
       "It's getting lo...  \n",
       "3   We left The Cliff\n",
       "Wandered down the Broadway ...  \n",
       "4   His space crowds out your space, your space\n",
       "Y...  \n",
       "..                                                ...  \n",
       "56  You know it's your blood that I bleed\n",
       "Tell me...  \n",
       "57  I remember when\n",
       "I remember, I remember when I...  \n",
       "58  Where have all the good men gone\n",
       "And where ar...  \n",
       "59  The sand in the hourglass keeps dripping away\n",
       "...  \n",
       "60  Looking out the door, I see the rain fall upon...  \n",
       "\n",
       "[61 rows x 7 columns]"
      ]
     },
     "execution_count": 10,
     "metadata": {},
     "output_type": "execute_result"
    }
   ],
   "source": [
    "df = pd.read_csv(filename) \n",
    "for index, value in df.dtypes.items(): \n",
    "    if value == 'object':\n",
    "        df[index] = df[index].fillna('')\n",
    "    else:\n",
    "        df[index] = df[index].fillna(0)\n",
    "df['album release'] = df['album release'].astype(int)\n",
    "df['lyrics'] = df['lyrics'].astype('string')\n",
    "df"
   ]
  },
  {
   "cell_type": "code",
   "execution_count": null,
   "id": "f7b73cde",
   "metadata": {},
   "outputs": [],
   "source": []
  }
 ],
 "metadata": {
  "kernelspec": {
   "display_name": "Python 3",
   "language": "python",
   "name": "python3"
  },
  "language_info": {
   "codemirror_mode": {
    "name": "ipython",
    "version": 3
   },
   "file_extension": ".py",
   "mimetype": "text/x-python",
   "name": "python",
   "nbconvert_exporter": "python",
   "pygments_lexer": "ipython3",
   "version": "3.8.8"
  }
 },
 "nbformat": 4,
 "nbformat_minor": 5
}
