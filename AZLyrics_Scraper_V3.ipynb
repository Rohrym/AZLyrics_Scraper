{
 "cells": [
  {
   "cell_type": "markdown",
   "id": "d7eb1f1f",
   "metadata": {},
   "source": [
    "# AZLyrics Scraper\n",
    "\n",
    "With this code you could scrape individual lyrics pages or whole artist pages for some of their basic data. This information will be saved in a csv file. To retrieve the data of the artist/band you want, you need to change the following link within the quotation markts with that of the AZLyrics artist page (make sure you use the full link). "
   ]
  },
  {
   "cell_type": "code",
   "execution_count": null,
   "id": "554a98f6",
   "metadata": {},
   "outputs": [],
   "source": [
    "index_url = 'https://www.azlyrics.com/l/larkinpoe.html'"
   ]
  },
  {
   "cell_type": "markdown",
   "id": "eaa93ceb",
   "metadata": {},
   "source": [
    "## Setting up\n",
    "\n",
    "First we start by importing various python libraries:"
   ]
  },
  {
   "cell_type": "code",
   "execution_count": null,
   "id": "a20aa346",
   "metadata": {},
   "outputs": [],
   "source": [
    "import sys\n",
    "import csv\n",
    "import requests\n",
    "import time\n",
    "import random\n",
    "from bs4 import BeautifulSoup"
   ]
  },
  {
   "cell_type": "markdown",
   "id": "55d57df9",
   "metadata": {},
   "source": [
    "Then we make functions to retrieve the urls from the web and look for certain elements within the webpages:"
   ]
  },
  {
   "cell_type": "code",
   "execution_count": null,
   "id": "c7599e75",
   "metadata": {},
   "outputs": [],
   "source": [
    "def load_page(url):\n",
    "    with requests.get(url) as f:\n",
    "        page = f.text\n",
    "    return page\n",
    "\n",
    "def get_element_text(element):\n",
    "    try:\n",
    "        return element.text.strip()\n",
    "    except AttributeError as e:                     \n",
    "        print('Element not found, error: {}'.format(e), file=sys.stderr)\n",
    "        return ''\n",
    "\n",
    "def get_genre_element(html):\n",
    "    try:\n",
    "        genre_script = html.find('body').find_all('script')[2]\n",
    "        genre = str(genre_script).split()[9][1:-2]\n",
    "        return genre\n",
    "    except AttributeError as e:                     \n",
    "        print('Element not found, error: {}'.format(e), file=sys.stderr)\n",
    "        return ''"
   ]
  },
  {
   "cell_type": "markdown",
   "id": "0ccfc0b3",
   "metadata": {},
   "source": [
    "## Getting the individual lyrics\n",
    "We proceed to make a function to get the basic information from each song on a songpage from AZLyrics:"
   ]
  },
  {
   "cell_type": "code",
   "execution_count": null,
   "id": "84924e33",
   "metadata": {},
   "outputs": [],
   "source": [
    "def get_song_info(url):\n",
    "    song_page = BeautifulSoup(load_page(url), 'lxml')                  \n",
    "    interesting_html = song_page.find(class_='container main-page')    \n",
    "    if not interesting_html:\n",
    "        print('No information availible for song at {}'.format(url), file=sys.stderr)\n",
    "        return {}                                                      \n",
    "    album = get_element_text(interesting_html.find(class_='songinalbum_title').find('b'))[1:-1]\n",
    "    album_released = get_element_text(interesting_html.find(class_='songinalbum_title'))[-5:-1]\n",
    "    credits = get_element_text(interesting_html.find_all(class_='smt')[2])[11:]\n",
    "    genre = get_genre_element(song_page)\n",
    "    lyrics = get_element_text(interesting_html.find('div', {'class':None}))\n",
    "    return {'album': album, 'album release': album_released,'credits': credits, 'genre': genre, 'lyrics': lyrics}                      "
   ]
  },
  {
   "cell_type": "markdown",
   "id": "bd14e23d",
   "metadata": {},
   "source": [
    "## Getting all artist songs\n",
    "\n",
    "Now that we are able to get the basic information of each song we now need to define a function to look over the table containing all the songs from the artist and extract the song title and the associated link. The links will be important as it will allow us to loop over the songs and retrieve them one by one using the previous function. "
   ]
  },
  {
   "cell_type": "code",
   "execution_count": null,
   "id": "09e06fb2",
   "metadata": {},
   "outputs": [],
   "source": [
    "def get_songs(url):\n",
    "    index_page = BeautifulSoup(load_page(url), 'lxml')        \n",
    "    items = index_page.find(id=\"listAlbum\")                   \n",
    "    if not items:                                             \n",
    "        print('Something went wrong!', file=sys.stderr)\n",
    "        sys.exit()\n",
    "    data = []\n",
    "    for count, row in enumerate(items.find_all(class_= 'listalbum-item')):          \n",
    "        song = get_element_text(row.find('a'))\n",
    "        link = row.find('a').get('href')\n",
    "        link = 'https://www.azlyrics.com/' + str(link)\n",
    "        data.append({    \n",
    "                         'id' : 's' + str(count + 1),\n",
    "                         'song': song,\n",
    "                         'link': link,\n",
    "                        })\n",
    "    return data"
   ]
  },
  {
   "cell_type": "markdown",
   "id": "c55a24f3",
   "metadata": {},
   "source": [
    "## Scraping\n",
    "\n",
    "The following code scrapes AZLyrics for the data for all the given artist's songs. This may take a while depending on the amount of songs released by the artist."
   ]
  },
  {
   "cell_type": "code",
   "execution_count": null,
   "id": "d6c49b2c",
   "metadata": {},
   "outputs": [],
   "source": [
    "song_data = get_songs(index_url)                      \n",
    "for row in song_data:\n",
    "    print('Scraping info on {}.'.format(row['song'])) #can be useful for debugging\n",
    "    url = row['link']\n",
    "    song_info = get_song_info(url)                    \n",
    "    for key, value in song_info.items():\n",
    "        row[key] = value\n",
    "    time.sleep(random.uniform(3,8)) #take this faster code if you have <100 songs you want to download\n",
    "    #time.sleep(random.uniform(4,16)) #take this slower code if you have >100 songs you want to download\n"
   ]
  },
  {
   "cell_type": "markdown",
   "id": "a8942ff6",
   "metadata": {},
   "source": [
    "## Writing data into CSV\n",
    "\n",
    "In this last part we will write down the data we have just scraped in a csv file and convert it to a table using the pandas module in python. From this dataframe we could acces the data easily and perform operations on them."
   ]
  },
  {
   "cell_type": "code",
   "execution_count": null,
   "id": "55188219",
   "metadata": {},
   "outputs": [],
   "source": [
    "filename = index_url.rsplit('/', 1)[1][:-5]\n",
    "with open(filename, 'w', encoding='utf-8') as f:       \n",
    "    fieldnames=['id','song', 'album', 'album release', 'genre','credits', 'lyrics']\n",
    "    writer = csv.DictWriter(f,\n",
    "                            delimiter=',',                \n",
    "                            quotechar='\"',                \n",
    "                            quoting=csv.QUOTE_NONNUMERIC, \n",
    "                            fieldnames=fieldnames\n",
    "                            )\n",
    "    writer.writeheader()                                  \n",
    "    for row in song_data:\n",
    "        writer.writerow({k:v for k,v in row.items() if k in fieldnames})"
   ]
  },
  {
   "cell_type": "markdown",
   "id": "7a178aaf",
   "metadata": {},
   "source": [
    "## Optional: Creating a Dataframe from the CSV file\n",
    "\n",
    "This allows you to see what is in the csv file from this Juypiter Notebook and do operations on the data if so desired."
   ]
  },
  {
   "cell_type": "code",
   "execution_count": null,
   "id": "a7cfbb7d",
   "metadata": {},
   "outputs": [],
   "source": [
    "import pandas as pd\n",
    "\n",
    "df = pd.read_csv(filename) \n",
    "for index, value in df.dtypes.items(): \n",
    "    if value == 'object':\n",
    "        df[index] = df[index].fillna('')\n",
    "    else:\n",
    "        df[index] = df[index].fillna(0)\n",
    "df['album release'] = df['album release'].astype(int)\n",
    "df['lyrics'] = df['lyrics'].astype('string')\n",
    "df"
   ]
  },
  {
   "cell_type": "code",
   "execution_count": null,
   "id": "f7b73cde",
   "metadata": {},
   "outputs": [],
   "source": []
  }
 ],
 "metadata": {
  "kernelspec": {
   "display_name": "Python 3",
   "language": "python",
   "name": "python3"
  },
  "language_info": {
   "codemirror_mode": {
    "name": "ipython",
    "version": 3
   },
   "file_extension": ".py",
   "mimetype": "text/x-python",
   "name": "python",
   "nbconvert_exporter": "python",
   "pygments_lexer": "ipython3",
   "version": "3.8.8"
  }
 },
 "nbformat": 4,
 "nbformat_minor": 5
}
